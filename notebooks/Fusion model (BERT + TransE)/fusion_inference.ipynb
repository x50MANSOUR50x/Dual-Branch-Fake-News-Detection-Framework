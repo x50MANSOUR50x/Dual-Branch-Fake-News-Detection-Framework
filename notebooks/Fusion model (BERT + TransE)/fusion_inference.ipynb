{
 "cells": [
  {
   "cell_type": "code",
   "execution_count": null,
   "id": "2846c7a4",
   "metadata": {},
   "outputs": [],
   "source": [
    "import torch\n",
    "import pandas as pd\n",
    "from torch.utils.data import DataLoader, TensorDataset\n",
    "from sklearn.metrics import accuracy_score, f1_score\n",
    "import torch.nn as nn"
   ]
  },
  {
   "cell_type": "code",
   "execution_count": null,
   "id": "fbe781e3",
   "metadata": {},
   "outputs": [],
   "source": [
    "cls_embeddings = torch.load(\"models/cls_embeddings.pt\")         # shape: [1267, 768]\n",
    "knowledge_tensor = torch.load(\"models/knowledge_tensor.pt\")     # shape: [1267, 128]\n",
    "\n",
    "df = pd.read_csv(\"Data/liar_dataset/test.tsv\", sep='\\t', header=None)\n",
    "raw_labels = df[1].tolist()\n",
    "\n",
    "label_map = {\n",
    "    \"true\": 1, \"mostly-true\": 1, \"half-true\": 1,\n",
    "    \"barely-true\": 0, \"false\": 0, \"pants-fire\": 0\n",
    "}\n",
    "labels = [label_map[label.strip().lower()] for label in raw_labels]\n",
    "labels = torch.tensor(labels, dtype=torch.long)"
   ]
  },
  {
   "cell_type": "code",
   "execution_count": null,
   "id": "c80cd3cd",
   "metadata": {},
   "outputs": [],
   "source": [
    "class FusionClassifier(nn.Module):\n",
    "    def __init__(self, bert_dim=768, knowledge_dim=128, hidden_dim=256, num_classes=2):\n",
    "        super(FusionClassifier, self).__init__()\n",
    "        self.fusion = nn.Sequential(\n",
    "            nn.Linear(bert_dim + knowledge_dim, hidden_dim),\n",
    "            nn.ReLU(),\n",
    "            nn.Dropout(0.3),\n",
    "            nn.Linear(hidden_dim, num_classes)\n",
    "        )\n",
    "\n",
    "    def forward(self, cls_embedding, knowledge_vector):\n",
    "        fused = torch.cat((cls_embedding, knowledge_vector), dim=1)\n",
    "        return self.fusion(fused)"
   ]
  },
  {
   "cell_type": "code",
   "execution_count": null,
   "id": "5dd84ff4",
   "metadata": {},
   "outputs": [],
   "source": [
    "device = torch.device(\"cuda\" if torch.cuda.is_available() else \"cpu\")\n",
    "model = FusionClassifier().to(device)\n",
    "model.load_state_dict(torch.load(\"models/fusion_model.pt\"))\n",
    "model.eval()"
   ]
  },
  {
   "cell_type": "code",
   "execution_count": null,
   "id": "9ecd2b0d",
   "metadata": {},
   "outputs": [],
   "source": [
    "dataset = TensorDataset(cls_embeddings, knowledge_tensor, labels)\n",
    "loader = DataLoader(dataset, batch_size=32)"
   ]
  },
  {
   "cell_type": "code",
   "execution_count": null,
   "id": "e36db5a3",
   "metadata": {},
   "outputs": [],
   "source": [
    "all_preds = []\n",
    "all_labels = []\n",
    "\n",
    "with torch.no_grad():\n",
    "    for cls_batch, k_batch, y_batch in loader:\n",
    "        cls_batch = cls_batch.to(device)\n",
    "        k_batch = k_batch.to(device)\n",
    "\n",
    "        outputs = model(cls_batch, k_batch)\n",
    "        preds = torch.argmax(outputs, dim=1)\n",
    "\n",
    "        all_preds.extend(preds.cpu().tolist())\n",
    "        all_labels.extend(y_batch.tolist())"
   ]
  },
  {
   "cell_type": "code",
   "execution_count": null,
   "id": "32812452",
   "metadata": {},
   "outputs": [],
   "source": [
    "output_df = pd.DataFrame({\n",
    "    \"label\": all_labels,\n",
    "    \"prediction\": all_preds\n",
    "})\n",
    "output_df.to_csv(\"outputs/fusion_predictions.csv\", index=False)\n",
    "print(\"✅ Predictions saved to: outputs/fusion_predictions.csv\")"
   ]
  },
  {
   "cell_type": "code",
   "execution_count": null,
   "id": "8654bfa7",
   "metadata": {},
   "outputs": [
    {
     "name": "stdout",
     "output_type": "stream",
     "text": [
      "✅ Predictions saved to: outputs/fusion_predictions.csv\n",
      "📊 Final Accuracy: 0.5675 | F1 Score: 0.7181\n"
     ]
    },
    {
     "name": "stderr",
     "output_type": "stream",
     "text": [
      "C:\\Users\\mca\\AppData\\Local\\Temp\\ipykernel_3936\\3441243999.py:10: FutureWarning: You are using `torch.load` with `weights_only=False` (the current default value), which uses the default pickle module implicitly. It is possible to construct malicious pickle data which will execute arbitrary code during unpickling (See https://github.com/pytorch/pytorch/blob/main/SECURITY.md#untrusted-models for more details). In a future release, the default value for `weights_only` will be flipped to `True`. This limits the functions that could be executed during unpickling. Arbitrary objects will no longer be allowed to be loaded via this mode unless they are explicitly allowlisted by the user via `torch.serialization.add_safe_globals`. We recommend you start setting `weights_only=True` for any use case where you don't have full control of the loaded file. Please open an issue on GitHub for any issues related to this experimental feature.\n",
      "  cls_embeddings = torch.load(\"models/cls_embeddings.pt\")         # shape: [1267, 768]\n",
      "C:\\Users\\mca\\AppData\\Local\\Temp\\ipykernel_3936\\3441243999.py:11: FutureWarning: You are using `torch.load` with `weights_only=False` (the current default value), which uses the default pickle module implicitly. It is possible to construct malicious pickle data which will execute arbitrary code during unpickling (See https://github.com/pytorch/pytorch/blob/main/SECURITY.md#untrusted-models for more details). In a future release, the default value for `weights_only` will be flipped to `True`. This limits the functions that could be executed during unpickling. Arbitrary objects will no longer be allowed to be loaded via this mode unless they are explicitly allowlisted by the user via `torch.serialization.add_safe_globals`. We recommend you start setting `weights_only=True` for any use case where you don't have full control of the loaded file. Please open an issue on GitHub for any issues related to this experimental feature.\n",
      "  knowledge_tensor = torch.load(\"models/knowledge_tensor.pt\")     # shape: [1267, 128]\n",
      "C:\\Users\\mca\\AppData\\Local\\Temp\\ipykernel_3936\\3441243999.py:45: FutureWarning: You are using `torch.load` with `weights_only=False` (the current default value), which uses the default pickle module implicitly. It is possible to construct malicious pickle data which will execute arbitrary code during unpickling (See https://github.com/pytorch/pytorch/blob/main/SECURITY.md#untrusted-models for more details). In a future release, the default value for `weights_only` will be flipped to `True`. This limits the functions that could be executed during unpickling. Arbitrary objects will no longer be allowed to be loaded via this mode unless they are explicitly allowlisted by the user via `torch.serialization.add_safe_globals`. We recommend you start setting `weights_only=True` for any use case where you don't have full control of the loaded file. Please open an issue on GitHub for any issues related to this experimental feature.\n",
      "  model.load_state_dict(torch.load(\"models/fusion_model.pt\"))\n"
     ]
    }
   ],
   "source": [
    "acc = accuracy_score(all_labels, all_preds)\n",
    "f1 = f1_score(all_labels, all_preds)\n",
    "print(f\"📊 Final Accuracy: {acc:.4f} | F1 Score: {f1:.4f}\")"
   ]
  }
 ],
 "metadata": {
  "kernelspec": {
   "display_name": "Python 3",
   "language": "python",
   "name": "python3"
  },
  "language_info": {
   "codemirror_mode": {
    "name": "ipython",
    "version": 3
   },
   "file_extension": ".py",
   "mimetype": "text/x-python",
   "name": "python",
   "nbconvert_exporter": "python",
   "pygments_lexer": "ipython3",
   "version": "3.10.0"
  }
 },
 "nbformat": 4,
 "nbformat_minor": 5
}
