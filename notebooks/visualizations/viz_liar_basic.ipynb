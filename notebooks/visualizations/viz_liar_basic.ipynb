{
 "cells": [
  {
   "cell_type": "code",
   "execution_count": 9,
   "id": "04403597",
   "metadata": {},
   "outputs": [],
   "source": [
    "import pandas as pd\n",
    "import numpy as np\n",
    "from pathlib import Path\n",
    "import matplotlib.pyplot as plt"
   ]
  },
  {
   "cell_type": "code",
   "execution_count": 10,
   "id": "6e83e96a",
   "metadata": {},
   "outputs": [],
   "source": [
    "LIAR_DIR = Path(\"Data/liar_dataset\")   # has liar_train.csv / liar_val.csv / liar_test.csv\n",
    "FIG_DIR  = Path(\"Figures\")\n",
    "FIG_DIR.mkdir(parents=True, exist_ok=True)"
   ]
  },
  {
   "cell_type": "code",
   "execution_count": 11,
   "id": "9c139a9c",
   "metadata": {},
   "outputs": [],
   "source": [
    "def load(csv):\n",
    "    df = pd.read_csv(csv)[[\"text\",\"label\"]].dropna().copy()\n",
    "    df[\"text\"] = df[\"text\"].astype(str)\n",
    "    df[\"label\"] = df[\"label\"].astype(int)\n",
    "    df[\"len\"] = df[\"text\"].str.split().str.len()\n",
    "    return df"
   ]
  },
  {
   "cell_type": "code",
   "execution_count": 12,
   "id": "4f851251",
   "metadata": {},
   "outputs": [],
   "source": [
    "train = load(LIAR_DIR/\"clean/liar_train.csv\")\n",
    "val   = load(LIAR_DIR/\"clean/liar_val.csv\")\n",
    "test  = load(LIAR_DIR/\"clean/liar_test.csv\")"
   ]
  },
  {
   "cell_type": "code",
   "execution_count": 15,
   "id": "04625a76",
   "metadata": {},
   "outputs": [],
   "source": [
    "def label_counts(df, name):\n",
    "    c = df[\"label\"].value_counts().reindex([0,1]).fillna(0).astype(int)\n",
    "    return pd.DataFrame({\"split\": name, \"label\": [0,1], \"count\": [c.get(0,0), c.get(1,0)]})"
   ]
  },
  {
   "cell_type": "code",
   "execution_count": 16,
   "id": "42d2ab65",
   "metadata": {},
   "outputs": [],
   "source": [
    "lab = pd.concat([label_counts(train,\"train\"),\n",
    "                 label_counts(val,\"val\"),\n",
    "                 label_counts(test,\"test\")], ignore_index=True)"
   ]
  },
  {
   "cell_type": "code",
   "execution_count": 17,
   "id": "ecbcf3c4",
   "metadata": {},
   "outputs": [],
   "source": [
    "for split in [\"train\",\"val\",\"test\"]:\n",
    "    sub = lab[lab[\"split\"]==split]\n",
    "    fig, ax = plt.subplots(figsize=(4,3))\n",
    "    ax.bar(sub[\"label\"].astype(str), sub[\"count\"])\n",
    "    ax.set_title(f\"Label Balance — {split}\")\n",
    "    ax.set_xlabel(\"label (0=false-ish, 1=true-ish)\")\n",
    "    ax.set_ylabel(\"count\")\n",
    "    for x,y in zip(sub[\"label\"].astype(str), sub[\"count\"]):\n",
    "        ax.text(x, y, str(y), ha=\"center\", va=\"bottom\", fontsize=9)\n",
    "    fig.tight_layout()\n",
    "    fig.savefig(FIG_DIR/f\"liar_label_balance_{split}.png\", dpi=160)\n",
    "    plt.close(fig)"
   ]
  },
  {
   "cell_type": "code",
   "execution_count": 18,
   "id": "06180e5e",
   "metadata": {},
   "outputs": [],
   "source": [
    "for split, df in [(\"train\",train),(\"val\",val),(\"test\",test)]:\n",
    "    fig, ax = plt.subplots(figsize=(4,3))\n",
    "    ax.hist(df[\"len\"].clip(upper=80), bins=40)  # clip long tails for readability\n",
    "    ax.set_title(f\"Text Length (words) — {split}\")\n",
    "    ax.set_xlabel(\"words (clipped at 80)\")\n",
    "    ax.set_ylabel(\"count\")\n",
    "    fig.tight_layout()\n",
    "    fig.savefig(FIG_DIR/f\"liar_text_length_{split}.png\", dpi=160)\n",
    "    plt.close(fig)"
   ]
  },
  {
   "cell_type": "code",
   "execution_count": 20,
   "id": "b0fec134",
   "metadata": {},
   "outputs": [
    {
     "name": "stdout",
     "output_type": "stream",
     "text": [
      "✅ saved figures in: C:\\Users\\moham\\OneDrive\\Desktop\\Courses\\MAHE Internship polysemy\\Dual Branch Fake News Detection Framework versions\\0.3\\notebooks\\visualizations\\Figures\n",
      "📊 length stats: {'train': {'n': 10227, 'len_mean': 17.95482546201232, 'len_p95': 33.0}, 'val': {'n': 1282, 'len_mean': 17.949297971918877, 'len_p95': 32.0}, 'test': {'n': 1276, 'len_mean': 18.052507836990596, 'len_p95': 32.0}}\n"
     ]
    }
   ],
   "source": [
    "stats = {\n",
    "    \"train\": dict(n=len(train), len_mean=float(train[\"len\"].mean()), len_p95=float(train[\"len\"].quantile(0.95))),\n",
    "    \"val\":   dict(n=len(val),   len_mean=float(val[\"len\"].mean()),   len_p95=float(val[\"len\"].quantile(0.95))),\n",
    "    \"test\":  dict(n=len(test),  len_mean=float(test[\"len\"].mean()),  len_p95=float(test[\"len\"].quantile(0.95))),\n",
    "}\n",
    "print(\"✅ saved figures in:\", FIG_DIR.resolve())\n",
    "print(\"📊 length stats:\", stats)"
   ]
  }
 ],
 "metadata": {
  "kernelspec": {
   "display_name": "Python 3",
   "language": "python",
   "name": "python3"
  },
  "language_info": {
   "codemirror_mode": {
    "name": "ipython",
    "version": 3
   },
   "file_extension": ".py",
   "mimetype": "text/x-python",
   "name": "python",
   "nbconvert_exporter": "python",
   "pygments_lexer": "ipython3",
   "version": "3.13.3"
  }
 },
 "nbformat": 4,
 "nbformat_minor": 5
}
