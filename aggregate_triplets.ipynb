{
 "cells": [
  {
   "cell_type": "code",
   "execution_count": 1,
   "id": "bfc34a64",
   "metadata": {},
   "outputs": [],
   "source": [
    "import os\n",
    "import torch\n",
    "import json\n",
    "import random\n",
    "import numpy as np\n",
    "from tqdm import tqdm\n",
    "import torch.nn as nn\n",
    "import torch.nn.functional as F"
   ]
  },
  {
   "cell_type": "code",
   "execution_count": 2,
   "id": "1930528f",
   "metadata": {},
   "outputs": [],
   "source": [
    "def set_seed(seed=7):\n",
    "    random.seed(seed)\n",
    "    np.random.seed(seed)\n",
    "    torch.manual_seed(seed)\n",
    "    torch.cuda.manual_seed_all(seed)\n",
    "\n",
    "set_seed(7)"
   ]
  },
  {
   "cell_type": "code",
   "execution_count": 3,
   "id": "5359ce35",
   "metadata": {},
   "outputs": [
    {
     "name": "stdout",
     "output_type": "stream",
     "text": [
      "Using device: cuda\n"
     ]
    }
   ],
   "source": [
    "device = torch.device(\"cuda\" if torch.cuda.is_available() else \"cpu\")\n",
    "print(\"Using device:\", device)\n"
   ]
  },
  {
   "cell_type": "code",
   "execution_count": 4,
   "id": "bfa2c05c",
   "metadata": {},
   "outputs": [],
   "source": [
    "class TransEModel(nn.Module):\n",
    "    def __init__(self, num_entities, num_relations, embedding_dim):\n",
    "        super(TransEModel, self).__init__()\n",
    "        self.entity_embeddings = nn.Embedding(num_entities, embedding_dim)\n",
    "        self.relation_embeddings = nn.Embedding(num_relations, embedding_dim)\n",
    "        self.embedding_dim = embedding_dim\n",
    "        self.init_weights()\n",
    "\n",
    "    def init_weights(self):\n",
    "        nn.init.xavier_uniform_(self.entity_embeddings.weight.data)\n",
    "        nn.init.xavier_uniform_(self.relation_embeddings.weight.data)\n",
    "\n",
    "    def forward(self, head, relation, tail):\n",
    "        h = self.entity_embeddings(head)\n",
    "        r = self.relation_embeddings(relation)\n",
    "        t = self.entity_embeddings(tail)\n",
    "        return h + r - t\n",
    "\n",
    "    def score(self, head, relation, tail):\n",
    "        return torch.norm(self.forward(head, relation, tail), p=1, dim=1)"
   ]
  },
  {
   "cell_type": "code",
   "execution_count": 5,
   "id": "9550d711",
   "metadata": {},
   "outputs": [],
   "source": [
    "class KnowledgeAggregator(nn.Module):\n",
    "    def __init__(self, embedding_dim=100, hidden_dim=128, output_dim=128, top_k=5):\n",
    "        super(KnowledgeAggregator, self).__init__()\n",
    "        self.top_k = top_k\n",
    "        self.mlp = nn.Sequential(\n",
    "            nn.Linear(top_k * embedding_dim, hidden_dim),\n",
    "            nn.ReLU(),\n",
    "            nn.Linear(hidden_dim, output_dim)\n",
    "        )\n",
    "\n",
    "    def forward(self, triplet_embeddings):  # (batch_size, top_k, embedding_dim)\n",
    "        flat = triplet_embeddings.view(triplet_embeddings.size(0), -1)  # (batch_size, top_k * embedding_dim)\n",
    "        return self.mlp(flat)  # (batch_size, output_dim)\n",
    "\n",
    "    def aggregate(self, triplets, entity_vocab, relation_vocab, transe_model, top_k=5):\n",
    "        scored_triplets = []\n",
    "        for h_str, r_str, t_str in triplets:\n",
    "            if h_str in entity_vocab and r_str in relation_vocab and t_str in entity_vocab:\n",
    "                h_id = torch.tensor([entity_vocab[h_str]], device=device)\n",
    "                r_id = torch.tensor([relation_vocab[r_str]], device=device)\n",
    "                t_id = torch.tensor([entity_vocab[t_str]], device=device)\n",
    "                score = transe_model.score(h_id, r_id, t_id)\n",
    "                scored_triplets.append((score.item(), h_id, r_id, t_id))\n",
    "\n",
    "        if len(scored_triplets) == 0:\n",
    "            return torch.zeros(self.mlp[-1].out_features, device=device)\n",
    "\n",
    "        scored_triplets.sort(key=lambda x: x[0])\n",
    "        top_triplets = scored_triplets[:top_k]\n",
    "\n",
    "        h_ids = torch.cat([t[1] for t in top_triplets])\n",
    "        r_ids = torch.cat([t[2] for t in top_triplets])\n",
    "        t_ids = torch.cat([t[3] for t in top_triplets])\n",
    "\n",
    "        h_emb = transe_model.entity_embeddings(h_ids)\n",
    "        r_emb = transe_model.relation_embeddings(r_ids)\n",
    "        t_emb = transe_model.entity_embeddings(t_ids)\n",
    "\n",
    "        triplet_embs = h_emb + r_emb - t_emb  # (top_k, embedding_dim)\n",
    "        triplet_embs = triplet_embs.unsqueeze(0)  # (1, top_k, embedding_dim)\n",
    "\n",
    "        knowledge_vector = self.forward(triplet_embs)  # (1, output_dim)\n",
    "        return knowledge_vector.squeeze(0)  # (output_dim,)"
   ]
  },
  {
   "cell_type": "code",
   "execution_count": 6,
   "id": "94fac939",
   "metadata": {},
   "outputs": [
    {
     "name": "stderr",
     "output_type": "stream",
     "text": [
      "C:\\Users\\mca\\AppData\\Local\\Temp\\ipykernel_7496\\1818030630.py:4: FutureWarning: You are using `torch.load` with `weights_only=False` (the current default value), which uses the default pickle module implicitly. It is possible to construct malicious pickle data which will execute arbitrary code during unpickling (See https://github.com/pytorch/pytorch/blob/main/SECURITY.md#untrusted-models for more details). In a future release, the default value for `weights_only` will be flipped to `True`. This limits the functions that could be executed during unpickling. Arbitrary objects will no longer be allowed to be loaded via this mode unless they are explicitly allowlisted by the user via `torch.serialization.add_safe_globals`. We recommend you start setting `weights_only=True` for any use case where you don't have full control of the loaded file. Please open an issue on GitHub for any issues related to this experimental feature.\n",
      "  entity_vocab = torch.load(\"models/entity_vocab.pt\")\n",
      "C:\\Users\\mca\\AppData\\Local\\Temp\\ipykernel_7496\\1818030630.py:5: FutureWarning: You are using `torch.load` with `weights_only=False` (the current default value), which uses the default pickle module implicitly. It is possible to construct malicious pickle data which will execute arbitrary code during unpickling (See https://github.com/pytorch/pytorch/blob/main/SECURITY.md#untrusted-models for more details). In a future release, the default value for `weights_only` will be flipped to `True`. This limits the functions that could be executed during unpickling. Arbitrary objects will no longer be allowed to be loaded via this mode unless they are explicitly allowlisted by the user via `torch.serialization.add_safe_globals`. We recommend you start setting `weights_only=True` for any use case where you don't have full control of the loaded file. Please open an issue on GitHub for any issues related to this experimental feature.\n",
      "  relation_vocab = torch.load(\"models/relation_vocab.pt\")\n",
      "C:\\Users\\mca\\AppData\\Local\\Temp\\ipykernel_7496\\1818030630.py:12: FutureWarning: You are using `torch.load` with `weights_only=False` (the current default value), which uses the default pickle module implicitly. It is possible to construct malicious pickle data which will execute arbitrary code during unpickling (See https://github.com/pytorch/pytorch/blob/main/SECURITY.md#untrusted-models for more details). In a future release, the default value for `weights_only` will be flipped to `True`. This limits the functions that could be executed during unpickling. Arbitrary objects will no longer be allowed to be loaded via this mode unless they are explicitly allowlisted by the user via `torch.serialization.add_safe_globals`. We recommend you start setting `weights_only=True` for any use case where you don't have full control of the loaded file. Please open an issue on GitHub for any issues related to this experimental feature.\n",
      "  transe_model.load_state_dict(torch.load(\"models/transe_model_valLoss_0.3785.pt\"))\n"
     ]
    }
   ],
   "source": [
    "with open(\"Data/triplets/triplets_test.json\", \"r\") as f:\n",
    "    article_triplets = json.load(f)\n",
    "\n",
    "entity_vocab = torch.load(\"models/entity_vocab.pt\")\n",
    "relation_vocab = torch.load(\"models/relation_vocab.pt\")\n",
    "\n",
    "num_entities = len(entity_vocab)\n",
    "num_relations = len(relation_vocab)\n",
    "embedding_dim = 100\n",
    "\n",
    "transe_model = TransEModel(num_entities, num_relations, embedding_dim).to(device)\n",
    "transe_model.load_state_dict(torch.load(\"models/transe_model_valLoss_0.3785.pt\"))\n",
    "transe_model.eval()\n",
    "\n",
    "aggregator = KnowledgeAggregator(embedding_dim=embedding_dim).to(device)"
   ]
  },
  {
   "cell_type": "code",
   "execution_count": null,
   "id": "5b40c4fb",
   "metadata": {},
   "outputs": [
    {
     "name": "stderr",
     "output_type": "stream",
     "text": [
      "100%|██████████| 1267/1267 [00:00<00:00, 16220.37it/s]"
     ]
    },
    {
     "name": "stdout",
     "output_type": "stream",
     "text": [
      "✅ Knowledge tensor shape: torch.Size([1267, 128])\n"
     ]
    },
    {
     "name": "stderr",
     "output_type": "stream",
     "text": [
      "\n"
     ]
    }
   ],
   "source": [
    "knowledge_vectors = []\n",
    "\n",
    "for article_id, triplets in enumerate(tqdm(article_triplets)):\n",
    "    # Clean invalid triplets\n",
    "    cleaned = [t for t in triplets if isinstance(t, (list, tuple)) and len(t) == 3]\n",
    "\n",
    "    vec = aggregator.aggregate(\n",
    "        triplets=cleaned,\n",
    "        entity_vocab=entity_vocab,\n",
    "        relation_vocab=relation_vocab,\n",
    "        transe_model=transe_model,\n",
    "        top_k=5\n",
    "    )\n",
    "    knowledge_vectors.append(vec)\n",
    "\n",
    "knowledge_tensor = torch.stack(knowledge_vectors)\n",
    "print(\"✅ Knowledge tensor shape:\", knowledge_tensor.shape)\n"
   ]
  },
  {
   "cell_type": "code",
   "execution_count": null,
   "id": "e9b6fb3e",
   "metadata": {},
   "outputs": [],
   "source": [
    "torch.save(knowledge_tensor, \"models/knowledge_vectors.pt\")"
   ]
  }
 ],
 "metadata": {
  "kernelspec": {
   "display_name": "Python 3",
   "language": "python",
   "name": "python3"
  },
  "language_info": {
   "codemirror_mode": {
    "name": "ipython",
    "version": 3
   },
   "file_extension": ".py",
   "mimetype": "text/x-python",
   "name": "python",
   "nbconvert_exporter": "python",
   "pygments_lexer": "ipython3",
   "version": "3.10.0"
  }
 },
 "nbformat": 4,
 "nbformat_minor": 5
}
