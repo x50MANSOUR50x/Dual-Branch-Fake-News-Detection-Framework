{
 "cells": [
  {
   "cell_type": "code",
   "execution_count": 1,
   "id": "676a6557",
   "metadata": {},
   "outputs": [],
   "source": [
    "import os\n",
    "import torch\n",
    "import random\n",
    "import numpy as np\n",
    "import pandas as pd\n",
    "from tqdm import tqdm\n",
    "import torch.nn as nn\n",
    "from sklearn.model_selection import train_test_split\n",
    "from sklearn.metrics import accuracy_score, f1_score\n",
    "from torch.utils.data import DataLoader, TensorDataset"
   ]
  },
  {
   "cell_type": "code",
   "execution_count": 2,
   "id": "0841e81d",
   "metadata": {},
   "outputs": [],
   "source": [
    "def set_seed(seed=7):\n",
    "    random.seed(seed)\n",
    "    np.random.seed(seed)\n",
    "    torch.manual_seed(seed)\n",
    "    torch.cuda.manual_seed_all(seed)\n",
    "\n",
    "set_seed(7)"
   ]
  },
  {
   "cell_type": "code",
   "execution_count": 3,
   "id": "2a6b191d",
   "metadata": {},
   "outputs": [
    {
     "name": "stdout",
     "output_type": "stream",
     "text": [
      "Using device: cuda\n"
     ]
    }
   ],
   "source": [
    "device = torch.device(\"cuda\" if torch.cuda.is_available() else \"cpu\")\n",
    "print(\"Using device:\", device)"
   ]
  },
  {
   "cell_type": "code",
   "execution_count": 4,
   "id": "357036b0",
   "metadata": {},
   "outputs": [
    {
     "name": "stdout",
     "output_type": "stream",
     "text": [
      "✅ CLS shape: torch.Size([1267, 768])\n",
      "✅ Knowledge shape: torch.Size([1267, 128])\n"
     ]
    },
    {
     "name": "stderr",
     "output_type": "stream",
     "text": [
      "C:\\Users\\mca\\AppData\\Local\\Temp\\ipykernel_13952\\3920945040.py:1: FutureWarning: You are using `torch.load` with `weights_only=False` (the current default value), which uses the default pickle module implicitly. It is possible to construct malicious pickle data which will execute arbitrary code during unpickling (See https://github.com/pytorch/pytorch/blob/main/SECURITY.md#untrusted-models for more details). In a future release, the default value for `weights_only` will be flipped to `True`. This limits the functions that could be executed during unpickling. Arbitrary objects will no longer be allowed to be loaded via this mode unless they are explicitly allowlisted by the user via `torch.serialization.add_safe_globals`. We recommend you start setting `weights_only=True` for any use case where you don't have full control of the loaded file. Please open an issue on GitHub for any issues related to this experimental feature.\n",
      "  cls_embeddings = torch.load(\"models/cls_embeddings.pt\")          # shape: [1267, 768]\n",
      "C:\\Users\\mca\\AppData\\Local\\Temp\\ipykernel_13952\\3920945040.py:2: FutureWarning: You are using `torch.load` with `weights_only=False` (the current default value), which uses the default pickle module implicitly. It is possible to construct malicious pickle data which will execute arbitrary code during unpickling (See https://github.com/pytorch/pytorch/blob/main/SECURITY.md#untrusted-models for more details). In a future release, the default value for `weights_only` will be flipped to `True`. This limits the functions that could be executed during unpickling. Arbitrary objects will no longer be allowed to be loaded via this mode unless they are explicitly allowlisted by the user via `torch.serialization.add_safe_globals`. We recommend you start setting `weights_only=True` for any use case where you don't have full control of the loaded file. Please open an issue on GitHub for any issues related to this experimental feature.\n",
      "  knowledge_tensor = torch.load(\"models/knowledge_tensor.pt\")      # shape: [1267, 128]\n"
     ]
    }
   ],
   "source": [
    "cls_embeddings = torch.load(\"models/cls_embeddings.pt\")          # shape: [1267, 768]\n",
    "knowledge_tensor = torch.load(\"models/knowledge_tensor.pt\")      # shape: [1267, 128]\n",
    "\n",
    "print(\"✅ CLS shape:\", cls_embeddings.shape)\n",
    "print(\"✅ Knowledge shape:\", knowledge_tensor.shape)"
   ]
  },
  {
   "cell_type": "code",
   "execution_count": 5,
   "id": "b434e5a1",
   "metadata": {},
   "outputs": [
    {
     "name": "stdout",
     "output_type": "stream",
     "text": [
      "✅ Labels shape: torch.Size([1267])\n"
     ]
    }
   ],
   "source": [
    "df = pd.read_csv(\"Data/liar_dataset/test.tsv\", sep='\\t', header=None)\n",
    "raw_labels = df[1].tolist()  # Column 1: truth labels\n",
    "\n",
    "label_map = {\n",
    "    \"true\": 1, \"mostly-true\": 1, \"half-true\": 1,\n",
    "    \"barely-true\": 0, \"false\": 0, \"pants-fire\": 0\n",
    "}\n",
    "labels = [label_map[label.strip().lower()] for label in raw_labels]\n",
    "labels = torch.tensor(labels, dtype=torch.long)\n",
    "print(\"✅ Labels shape:\", labels.shape)"
   ]
  },
  {
   "cell_type": "code",
   "execution_count": 6,
   "id": "54dd09df",
   "metadata": {},
   "outputs": [],
   "source": [
    "X_train, X_val, K_train, K_val, y_train, y_val = train_test_split(\n",
    "    cls_embeddings, knowledge_tensor, labels, test_size=0.2, random_state=7\n",
    ")\n",
    "\n",
    "train_dataset = TensorDataset(X_train, K_train, y_train)\n",
    "val_dataset = TensorDataset(X_val, K_val, y_val)\n",
    "\n",
    "train_loader = DataLoader(train_dataset, batch_size=32, shuffle=True)\n",
    "val_loader = DataLoader(val_dataset, batch_size=32)"
   ]
  },
  {
   "cell_type": "code",
   "execution_count": 7,
   "id": "fe47f5e2",
   "metadata": {},
   "outputs": [],
   "source": [
    "class FusionClassifier(nn.Module):\n",
    "    def __init__(self, bert_dim=768, knowledge_dim=128, hidden_dim=256, num_classes=2):\n",
    "        super(FusionClassifier, self).__init__()\n",
    "        self.fusion = nn.Sequential(\n",
    "            nn.Linear(bert_dim + knowledge_dim, hidden_dim),\n",
    "            nn.ReLU(),\n",
    "            nn.Dropout(0.3),\n",
    "            nn.Linear(hidden_dim, num_classes)\n",
    "        )\n",
    "\n",
    "    def forward(self, cls_embedding, knowledge_vector):\n",
    "        fused = torch.cat((cls_embedding, knowledge_vector), dim=1)\n",
    "        return self.fusion(fused)"
   ]
  },
  {
   "cell_type": "code",
   "execution_count": 8,
   "id": "ab970152",
   "metadata": {},
   "outputs": [
    {
     "name": "stdout",
     "output_type": "stream",
     "text": [
      "Epoch 1 | Loss: 22.0279 | Val Acc: 0.6339 | F1: 0.7715\n",
      "✅ Saved best fusion model with F1: 0.7715\n",
      "Epoch 2 | Loss: 21.5770 | Val Acc: 0.6220 | F1: 0.7419\n",
      "Epoch 3 | Loss: 21.3401 | Val Acc: 0.6220 | F1: 0.7273\n",
      "Epoch 4 | Loss: 20.9746 | Val Acc: 0.6260 | F1: 0.7383\n",
      "Epoch 5 | Loss: 21.0085 | Val Acc: 0.5748 | F1: 0.6516\n",
      "Epoch 6 | Loss: 20.5154 | Val Acc: 0.6063 | F1: 0.7059\n",
      "Epoch 7 | Loss: 20.6199 | Val Acc: 0.6142 | F1: 0.7101\n",
      "Epoch 8 | Loss: 20.1964 | Val Acc: 0.6102 | F1: 0.6935\n",
      "Epoch 9 | Loss: 20.0184 | Val Acc: 0.6260 | F1: 0.7383\n",
      "Epoch 10 | Loss: 19.8036 | Val Acc: 0.5866 | F1: 0.6729\n"
     ]
    }
   ],
   "source": [
    "fusion_model = FusionClassifier().to(device)\n",
    "criterion = nn.CrossEntropyLoss()\n",
    "optimizer = torch.optim.Adam(fusion_model.parameters(), lr=1e-4)\n",
    "\n",
    "best_f1 = 0\n",
    "for epoch in range(10):  # You can increase this if needed\n",
    "    fusion_model.train()\n",
    "    total_loss = 0\n",
    "\n",
    "    for cls_batch, k_batch, y_batch in train_loader:\n",
    "        cls_batch = cls_batch.to(device)\n",
    "        k_batch = k_batch.to(device)\n",
    "        y_batch = y_batch.to(device)\n",
    "\n",
    "        optimizer.zero_grad()\n",
    "        outputs = fusion_model(cls_batch, k_batch)\n",
    "        loss = criterion(outputs, y_batch)\n",
    "        loss.backward()\n",
    "        optimizer.step()\n",
    "        total_loss += loss.item()\n",
    "\n",
    "    fusion_model.eval()\n",
    "    all_preds, all_labels = [], []\n",
    "    with torch.no_grad():\n",
    "        for cls_batch, k_batch, y_batch in val_loader:\n",
    "            cls_batch = cls_batch.to(device)\n",
    "            k_batch = k_batch.to(device)\n",
    "            outputs = fusion_model(cls_batch, k_batch)\n",
    "            preds = torch.argmax(outputs, dim=1)\n",
    "            all_preds.extend(preds.cpu().tolist())\n",
    "            all_labels.extend(y_batch.tolist())\n",
    "\n",
    "    acc = accuracy_score(all_labels, all_preds)\n",
    "    f1 = f1_score(all_labels, all_preds)\n",
    "    print(f\"Epoch {epoch+1} | Loss: {total_loss:.4f} | Val Acc: {acc:.4f} | F1: {f1:.4f}\")\n",
    "\n",
    "    if f1 > best_f1:\n",
    "        best_f1 = f1\n",
    "        torch.save(fusion_model.state_dict(), \"models/fusion_model.pt\")\n",
    "        print(f\"✅ Saved best fusion model with F1: {best_f1:.4f}\")\n"
   ]
  }
 ],
 "metadata": {
  "kernelspec": {
   "display_name": "Python 3",
   "language": "python",
   "name": "python3"
  },
  "language_info": {
   "codemirror_mode": {
    "name": "ipython",
    "version": 3
   },
   "file_extension": ".py",
   "mimetype": "text/x-python",
   "name": "python",
   "nbconvert_exporter": "python",
   "pygments_lexer": "ipython3",
   "version": "3.10.0"
  }
 },
 "nbformat": 4,
 "nbformat_minor": 5
}
